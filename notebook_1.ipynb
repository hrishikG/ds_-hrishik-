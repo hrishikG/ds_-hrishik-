{
  "nbformat": 4,
  "nbformat_minor": 0,
  "metadata": {
    "colab": {
      "provenance": []
    },
    "kernelspec": {
      "name": "python3",
      "display_name": "Python 3"
    },
    "language_info": {
      "name": "python"
    }
  },
  "cells": [
    {
      "cell_type": "code",
      "source": [
        "https://colab.research.google.com/drive/1ChMuIV_X3A2NGf3yhSMDOTQtsCbX74z5?usp=sharing"
      ],
      "metadata": {
        "colab": {
          "base_uri": "https://localhost:8080/",
          "height": 106
        },
        "id": "LXIYlXA3UwFg",
        "outputId": "82e5bcd8-7ed9-4e7a-9b6f-12e7c9c1237b"
      },
      "execution_count": 1,
      "outputs": [
        {
          "output_type": "error",
          "ename": "SyntaxError",
          "evalue": "invalid decimal literal (ipython-input-2915169418.py, line 1)",
          "traceback": [
            "\u001b[0;36m  File \u001b[0;32m\"/tmp/ipython-input-2915169418.py\"\u001b[0;36m, line \u001b[0;32m1\u001b[0m\n\u001b[0;31m    https://colab.research.google.com/drive/1ChMuIV_X3A2NGf3yhSMDOTQtsCbX74z5?usp=sharing\u001b[0m\n\u001b[0m                                            ^\u001b[0m\n\u001b[0;31mSyntaxError\u001b[0m\u001b[0;31m:\u001b[0m invalid decimal literal\n"
          ]
        }
      ]
    },
    {
      "cell_type": "code",
      "execution_count": 1,
      "metadata": {
        "id": "T714O4YpdHTj"
      },
      "outputs": [],
      "source": [
        "import pandas as pd"
      ]
    },
    {
      "cell_type": "code",
      "source": [
        "# --- 1. DATA PREPARATION ---\n",
        "\n",
        "# Load the dataframes\n",
        "fear_greed_df = pd.read_csv(\"fear_greed_index.csv\")\n",
        "historical_data_df = pd.read_csv(\"historical_data.csv\")\n",
        "\n",
        "# Get initial row count for data coverage calculation\n",
        "original_rows = len(historical_data_df)"
      ],
      "metadata": {
        "id": "Hnbclx3geZ0K"
      },
      "execution_count": 5,
      "outputs": []
    },
    {
      "cell_type": "code",
      "source": [
        "# Standardize Date Columns for Merging\n",
        "# Correct date parsing for historical data using explicit format\n",
        "historical_data_df['Date'] = pd.to_datetime(\n",
        "    historical_data_df['Timestamp IST'],\n",
        "    format=\"%d-%m-%Y %H:%M\"\n",
        ").dt.strftime('%Y-%m-%d')\n",
        "fear_greed_df['Date'] = pd.to_datetime(fear_greed_df['date']).dt.strftime('%Y-%m-%d')"
      ],
      "metadata": {
        "id": "5ZtzWhQcjenL"
      },
      "execution_count": 6,
      "outputs": []
    },
    {
      "cell_type": "code",
      "source": [
        "# --- 2. MERGING AND TOP 5 IDENTIFICATION ---\n",
        "\n",
        "# Merge PnL data with Fear & Greed Classification (Left Merge)\n",
        "merged_df = pd.merge(\n",
        "    historical_data_df,\n",
        "    fear_greed_df[['Date', 'classification']],\n",
        "    on='Date',\n",
        "    how='left'\n",
        ")\n",
        "\n",
        "# Calculate Total PnL for all coins\n",
        "total_pnl_by_coin = merged_df.groupby('Coin')['Closed PnL'].sum().reset_index()\n",
        "total_pnl_by_coin.rename(columns={'Closed PnL': 'Total PnL (USD)'}, inplace=True)"
      ],
      "metadata": {
        "id": "hLgNns_ojhQw"
      },
      "execution_count": 7,
      "outputs": []
    },
    {
      "cell_type": "code",
      "source": [
        "# Identify the Top 5 most profitable coins\n",
        "top_5_by_pnl_sorted = total_pnl_by_coin.sort_values(\n",
        "    by='Total PnL (USD)',\n",
        "    ascending=False\n",
        ")\n",
        "top_5_coins = top_5_by_pnl_sorted.head(5)['Coin'].tolist()"
      ],
      "metadata": {
        "id": "gIxayOMbjkl7"
      },
      "execution_count": 8,
      "outputs": []
    },
    {
      "cell_type": "code",
      "source": [
        "# --- 3. DATA COVERAGE CALCULATION ---\n",
        "\n",
        "# Filter the merged data for the identified Top 5 coins\n",
        "filtered_coin_df = merged_df[merged_df['Coin'].isin(top_5_coins)].copy()\n",
        "rows_after_coin_filter = len(filtered_coin_df)\n",
        "\n",
        "# Calculate data coverage\n",
        "coin_filter_pct = (rows_after_coin_filter / original_rows) * 100\n",
        "\n",
        "print(\"--- Data Coverage Report ---\")\n",
        "print(f\"Original Number of Trades (Rows): {original_rows}\")\n",
        "print(f\"Top 5 Most Profitable Coins: {top_5_coins}\")\n",
        "print(f\"Rows covered by Top 5 Coins: {rows_after_coin_filter}\")\n",
        "print(f\"Percentage of Original Trades Covered: {coin_filter_pct:.2f}%\\n\")"
      ],
      "metadata": {
        "colab": {
          "base_uri": "https://localhost:8080/"
        },
        "id": "NS0GcskCjpBQ",
        "outputId": "5f3d2782-d798-45f4-c91d-e0212068f101"
      },
      "execution_count": 9,
      "outputs": [
        {
          "output_type": "stream",
          "name": "stdout",
          "text": [
            "--- Data Coverage Report ---\n",
            "Original Number of Trades (Rows): 211224\n",
            "Top 5 Most Profitable Coins: ['@107', 'HYPE', 'SOL', 'ETH', 'BTC']\n",
            "Rows covered by Top 5 Coins: 145910\n",
            "Percentage of Original Trades Covered: 69.08%\n",
            "\n"
          ]
        }
      ]
    },
    {
      "cell_type": "code",
      "source": [
        "# --- 4. AVERAGE DAILY PNL CALCULATION ---\n",
        "\n",
        "# Remove unclassified days (Equivalent to Inner Join on Classified Days)\n",
        "final_filtered_df = filtered_coin_df.dropna(subset=['classification']).copy()\n",
        "\n",
        "# Calculate the Total PnL for each Coin/Classification on a given Day\n",
        "daily_pnl = final_filtered_df.groupby(['Date', 'Coin', 'classification'])['Closed PnL'].sum().reset_index()\n",
        "\n",
        "# Calculate the Average Daily PnL across all days for each Coin/Classification\n",
        "avg_daily_pnl = daily_pnl.groupby(['Coin', 'classification'])['Closed PnL'].mean().reset_index()\n",
        "avg_daily_pnl.rename(columns={'Closed PnL': 'Avg Daily PnL (USD)'}, inplace=True)"
      ],
      "metadata": {
        "id": "37oIUJs7jsWg"
      },
      "execution_count": 10,
      "outputs": []
    },
    {
      "cell_type": "code",
      "source": [
        "# Pivot the table for final output structure\n",
        "pnl_table = avg_daily_pnl.pivot(index='classification', columns='Coin', values='Avg Daily PnL (USD)')"
      ],
      "metadata": {
        "id": "6n90pqjejwt0"
      },
      "execution_count": 11,
      "outputs": []
    },
    {
      "cell_type": "code",
      "source": [
        "# Reorder rows for presentation\n",
        "row_order = ['Extreme Greed', 'Greed', 'Neutral', 'Fear', 'Extreme Fear']\n",
        "pnl_table = pnl_table.reindex(index=row_order)"
      ],
      "metadata": {
        "id": "thVfToV0jzh8"
      },
      "execution_count": 12,
      "outputs": []
    },
    {
      "cell_type": "code",
      "source": [
        "# --- 5. AGGREGATION CALCULATIONS ---\n",
        "\n",
        "# 5.1. Mathematical Aggregation\n",
        "math_agg = pnl_table.mean(axis=1).sort_values(ascending=False).round(2)"
      ],
      "metadata": {
        "id": "Uv5m53tNj1SX"
      },
      "execution_count": 13,
      "outputs": []
    },
    {
      "cell_type": "code",
      "source": [
        "# 5.2. Semantic Aggregation\n",
        "# Find the sentiment that yields the max PnL for each coin\n",
        "max_pnl_sentiment = pnl_table.idxmax(axis=0)\n",
        "# Count how many coins peak at each sentiment\n",
        "semantic_agg = max_pnl_sentiment.value_counts().sort_values(ascending=False)"
      ],
      "metadata": {
        "id": "MGnAgG7Nj4oA"
      },
      "execution_count": 14,
      "outputs": []
    },
    {
      "cell_type": "code",
      "source": [
        "# --- 6. PRINT FINAL AGGREGATIONS ---\n",
        "\n",
        "print(\"--- Final Average Daily PnL Table (Raw) ---\")\n",
        "print(pnl_table.to_string(float_format='${:,.2f}'.format))\n",
        "print(\"\\n\" + \"=\"*50)\n",
        "\n",
        "print(\"--- Mathematical Aggregation (Largest PnL Magnitude) ---\")\n",
        "print(\"Average PnL across all 5 assets for each sentiment class.\")\n",
        "print(math_agg.to_string(float_format='${:,.2f}'.format))\n",
        "print(\"\\n\" + \"=\"*50)\n",
        "\n",
        "print(\"--- Semantic Aggregation (Majority Peak Strategy) ---\")\n",
        "print(\"Count of Assets for which this Sentiment is the Highest PnL Day.\")\n",
        "print(semantic_agg.to_string())"
      ],
      "metadata": {
        "colab": {
          "base_uri": "https://localhost:8080/"
        },
        "id": "Lx7urd1xkA04",
        "outputId": "9fd8c70d-84bc-478a-f496-6c1a0000c818"
      },
      "execution_count": 15,
      "outputs": [
        {
          "output_type": "stream",
          "name": "stdout",
          "text": [
            "--- Final Average Daily PnL Table (Raw) ---\n",
            "Coin                  @107       BTC        ETH       HYPE        SOL\n",
            "classification                                                       \n",
            "Extreme Greed   $60,261.18 $1,483.57   $-538.67  $6,141.79  $1,019.35\n",
            "Greed           $17,666.89 $1,121.12  $2,700.28  $4,056.28  $9,033.80\n",
            "Neutral          $8,782.08 $3,531.50  $1,431.96 $11,542.32 $13,789.83\n",
            "Fear              $-320.89 $8,618.74 $10,547.88 $19,542.01 $17,657.01\n",
            "Extreme Fear   $-12,371.40   $254.74 $19,594.30 $43,825.80 $11,686.61\n",
            "\n",
            "==================================================\n",
            "--- Mathematical Aggregation (Largest PnL Magnitude) ---\n",
            "Average PnL across all 5 assets for each sentiment class.\n",
            "classification\n",
            "Extreme Greed   $13,673.44\n",
            "Extreme Fear    $12,598.01\n",
            "Fear            $11,208.95\n",
            "Neutral          $7,815.53\n",
            "Greed            $6,915.67\n",
            "\n",
            "==================================================\n",
            "--- Semantic Aggregation (Majority Peak Strategy) ---\n",
            "Count of Assets for which this Sentiment is the Highest PnL Day.\n",
            "Fear             2\n",
            "Extreme Fear     2\n",
            "Extreme Greed    1\n"
          ]
        }
      ]
    },
    {
      "cell_type": "code",
      "source": [],
      "metadata": {
        "id": "u4HadHFlkG3n"
      },
      "execution_count": null,
      "outputs": []
    }
  ]
}