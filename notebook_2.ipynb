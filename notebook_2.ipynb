{
  "nbformat": 4,
  "nbformat_minor": 0,
  "metadata": {
    "colab": {
      "provenance": []
    },
    "kernelspec": {
      "name": "python3",
      "display_name": "Python 3"
    },
    "language_info": {
      "name": "python"
    }
  },
  "cells": [
    {
      "cell_type": "code",
      "source": [
        "https://colab.research.google.com/drive/1-pNX4D2cA5KnHDE8yP8sSszfNz-luZQd?usp=sharing"
      ],
      "metadata": {
        "colab": {
          "base_uri": "https://localhost:8080/",
          "height": 106
        },
        "id": "83GjC97EVE_Y",
        "outputId": "c5d80dab-93d1-42bb-f492-c1a3cecab6ea"
      },
      "execution_count": 12,
      "outputs": [
        {
          "output_type": "error",
          "ename": "SyntaxError",
          "evalue": "invalid syntax (ipython-input-2590369812.py, line 1)",
          "traceback": [
            "\u001b[0;36m  File \u001b[0;32m\"/tmp/ipython-input-2590369812.py\"\u001b[0;36m, line \u001b[0;32m1\u001b[0m\n\u001b[0;31m    https://colab.research.google.com/drive/1-pNX4D2cA5KnHDE8yP8sSszfNz-luZQd?usp=sharing\u001b[0m\n\u001b[0m          ^\u001b[0m\n\u001b[0;31mSyntaxError\u001b[0m\u001b[0;31m:\u001b[0m invalid syntax\n"
          ]
        }
      ]
    },
    {
      "cell_type": "code",
      "execution_count": 2,
      "metadata": {
        "id": "NCJCvarE4ipi"
      },
      "outputs": [],
      "source": [
        "import pandas as pd"
      ]
    },
    {
      "cell_type": "code",
      "source": [
        "# 1. Load the datasets\n",
        "try:\n",
        "    df_sentiment = pd.read_csv('fear_greed_index.csv')\n",
        "    df_trades = pd.read_csv('historical_data.csv')\n",
        "except FileNotFoundError as e:\n",
        "    print(f\"Error loading file: {e}\")\n",
        "    exit()"
      ],
      "metadata": {
        "id": "OK-nwfsG5QWc"
      },
      "execution_count": 3,
      "outputs": []
    },
    {
      "cell_type": "code",
      "source": [
        "# 2. Data Preparation and Cleaning\n",
        "\n",
        "# --- Sentiment Data Preparation ---\n",
        "# Convert 'date' column to datetime and prepare for merging\n",
        "df_sentiment['Date'] = pd.to_datetime(df_sentiment['date'])\n",
        "df_sentiment = df_sentiment.rename(columns={'date': 'Original_Date_String'})\n",
        "df_sentiment = df_sentiment[['Date', 'classification', 'value']]\n",
        "df_sentiment = df_sentiment.drop_duplicates(subset=['Date']) # Ensure one sentiment per day"
      ],
      "metadata": {
        "id": "QKcmiu7e5jic"
      },
      "execution_count": 4,
      "outputs": []
    },
    {
      "cell_type": "code",
      "source": [
        "# --- Trades Data Preparation ---\n",
        "# Convert 'Timestamp IST' to datetime, handling potential format issues\n",
        "df_trades['Timestamp IST'] = pd.to_datetime(df_trades['Timestamp IST'], format='%d-%m-%Y %H:%M', errors='coerce')\n",
        "df_trades = df_trades.dropna(subset=['Timestamp IST']) # Remove rows where conversion failed\n",
        "\n",
        "# Extract the date part to create the merging key\n",
        "df_trades['Date'] = df_trades['Timestamp IST'].dt.date\n",
        "df_trades['Date'] = pd.to_datetime(df_trades['Date'])"
      ],
      "metadata": {
        "id": "ocYi1van5olC"
      },
      "execution_count": 5,
      "outputs": []
    },
    {
      "cell_type": "code",
      "source": [
        "# 3. Trade Aggregation: Calculate total daily PnL and trade count per account\n",
        "df_account_performance = df_trades.groupby(['Account', 'Date']).agg(\n",
        "    Total_Daily_PnL=('Closed PnL', 'sum'),\n",
        "    Num_Daily_Trades=('Order ID', 'count')\n",
        ").reset_index()"
      ],
      "metadata": {
        "id": "fCy_mIEU5uHH"
      },
      "execution_count": 6,
      "outputs": []
    },
    {
      "cell_type": "code",
      "source": [
        "# 4. Merging DataFrames\n",
        "# Merge the aggregated performance data with the sentiment data\n",
        "df_merged = pd.merge(\n",
        "    df_account_performance,\n",
        "    df_sentiment,\n",
        "    on='Date',\n",
        "    how='inner' # Only keep records where both trade and sentiment data exists\n",
        ")"
      ],
      "metadata": {
        "id": "OqpJeyJ75zI_"
      },
      "execution_count": 7,
      "outputs": []
    },
    {
      "cell_type": "code",
      "source": [
        "# 5. Final Aggregation: Average PnL and Avg No. Daily trades by classification\n",
        "# Calculate the average PnL and average number of trades for each sentiment classification\n",
        "df_sentiment_stats = df_merged.groupby('classification').agg(\n",
        "    Avg_Daily_PnL=('Total_Daily_PnL', 'mean'),\n",
        "    Avg_Daily_Trades=('Num_Daily_Trades', 'mean'),\n",
        ").reset_index()"
      ],
      "metadata": {
        "id": "LGmvHiYz5463"
      },
      "execution_count": 8,
      "outputs": []
    },
    {
      "cell_type": "code",
      "source": [
        "# Sort by Avg_Daily_PnL for presentation\n",
        "df_sentiment_stats_sorted = df_sentiment_stats.sort_values(by='Avg_Daily_PnL', ascending=False)\n",
        "\n",
        "# Display the final results\n",
        "print(\"--- Final Analysis: Average PnL and Trades by Sentiment Classification ---\")\n",
        "print(df_sentiment_stats_sorted)"
      ],
      "metadata": {
        "colab": {
          "base_uri": "https://localhost:8080/"
        },
        "id": "NSGPcutm6B49",
        "outputId": "5b6b6119-85f1-486f-b765-73a10f418787"
      },
      "execution_count": 9,
      "outputs": [
        {
          "output_type": "stream",
          "name": "stdout",
          "text": [
            "--- Final Analysis: Average PnL and Trades by Sentiment Classification ---\n",
            "  classification  Avg_Daily_PnL  Avg_Daily_Trades\n",
            "2           Fear    5328.818161         98.153968\n",
            "1  Extreme Greed    5161.922644         76.030418\n",
            "0   Extreme Fear    4619.439053        133.750000\n",
            "4        Neutral    3438.618818        100.228723\n",
            "3          Greed    3318.100730         77.628086\n"
          ]
        }
      ]
    },
    {
      "cell_type": "code",
      "source": [
        "import matplotlib.pyplot as plt\n",
        "import seaborn as sns\n",
        "%matplotlib inline\n",
        "# Sort by Avg_Daily_Trades for the bar chart\n",
        "df_trades_sorted = df_sentiment_stats.sort_values(by='Avg_Daily_Trades', ascending=False)\n",
        "# Code for Horizontal Bar Chart of Average Daily Trades\n",
        "plt.figure(figsize=(10, 6))\n",
        "sns.barplot(\n",
        "    x='Avg_Daily_Trades',\n",
        "    y='classification',\n",
        "    data=df_trades_sorted,\n",
        "    palette='magma'\n",
        ")\n",
        "plt.title('Average Number of Daily Trades per Account by Market Sentiment')\n",
        "plt.xlabel('Average Number of Daily Trades')\n",
        "plt.ylabel('Sentiment Classification')\n",
        "plt.tight_layout()\n",
        "plt.savefig('avg_daily_trades_by_sentiment_chart.png')\n",
        "plt.close()"
      ],
      "metadata": {
        "colab": {
          "base_uri": "https://localhost:8080/"
        },
        "id": "sF0ublhg6ELV",
        "outputId": "0c2eec0d-ce5d-4205-992a-f1489bd97177"
      },
      "execution_count": 10,
      "outputs": [
        {
          "output_type": "stream",
          "name": "stderr",
          "text": [
            "/tmp/ipython-input-589368236.py:8: FutureWarning: \n",
            "\n",
            "Passing `palette` without assigning `hue` is deprecated and will be removed in v0.14.0. Assign the `y` variable to `hue` and set `legend=False` for the same effect.\n",
            "\n",
            "  sns.barplot(\n"
          ]
        }
      ]
    },
    {
      "cell_type": "code",
      "source": [
        "# Filter out extreme outliers for better visualization of the main distribution\n",
        "df_plot = df_merged[\n",
        "    (df_merged['Total_Daily_PnL'] < 50000) &\n",
        "    (df_merged['Total_Daily_PnL'] > -50000)\n",
        "]\n",
        "\n",
        "# Code for Box Plot for PnL Distribution\n",
        "plt.figure(figsize=(12, 6))\n",
        "sns.boxplot(\n",
        "    x='Total_Daily_PnL',\n",
        "    y='classification',\n",
        "    data=df_plot.sort_values(by='Total_Daily_PnL', ascending=False),\n",
        "    palette='Spectral',\n",
        "    showfliers=False # Do not show remaining outliers for clarity of the main body\n",
        ")\n",
        "plt.title('Distribution of Daily PnL per Account by Market Sentiment (Excluding Extreme Outliers)')\n",
        "plt.xlabel('Daily PnL (USD)')\n",
        "plt.ylabel('Sentiment Classification')\n",
        "plt.grid(axis='x', linestyle='--')\n",
        "plt.tight_layout()\n",
        "plt.savefig('pnl_distribution_boxplot.png')\n",
        "plt.close()"
      ],
      "metadata": {
        "colab": {
          "base_uri": "https://localhost:8080/"
        },
        "id": "BsN666Ov6cfV",
        "outputId": "229da847-94d2-4fa5-96c2-e23d1f1fda5f"
      },
      "execution_count": 11,
      "outputs": [
        {
          "output_type": "stream",
          "name": "stderr",
          "text": [
            "/tmp/ipython-input-3775969037.py:9: FutureWarning: \n",
            "\n",
            "Passing `palette` without assigning `hue` is deprecated and will be removed in v0.14.0. Assign the `y` variable to `hue` and set `legend=False` for the same effect.\n",
            "\n",
            "  sns.boxplot(\n"
          ]
        }
      ]
    },
    {
      "cell_type": "code",
      "source": [],
      "metadata": {
        "id": "yxQ81FkIcn3C"
      },
      "execution_count": null,
      "outputs": []
    }
  ]
}